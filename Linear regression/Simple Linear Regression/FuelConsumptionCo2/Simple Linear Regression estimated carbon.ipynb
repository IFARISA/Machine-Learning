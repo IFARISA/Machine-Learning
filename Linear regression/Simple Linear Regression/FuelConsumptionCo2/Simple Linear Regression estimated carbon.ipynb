{
 "cells": [
  {
   "metadata": {
    "ExecuteTime": {
     "end_time": "2025-03-26T21:36:55.805236Z",
     "start_time": "2025-03-26T21:36:55.800119Z"
    }
   },
   "cell_type": "code",
   "source": [
    "import pandas as pd\n",
    "import numpy as np\n",
    "import seaborn as sns\n",
    "import matplotlib.pyplot as plt"
   ],
   "id": "3220c41d86da6f0f",
   "outputs": [],
   "execution_count": 31
  },
  {
   "metadata": {
    "ExecuteTime": {
     "end_time": "2025-03-26T21:36:55.888849Z",
     "start_time": "2025-03-26T21:36:55.865245Z"
    }
   },
   "cell_type": "code",
   "source": [
    "df  = pd.read_csv('FuelConsumptionCo2.csv')\n",
    "df.head()"
   ],
   "id": "3e28812680d56a6f",
   "outputs": [
    {
     "data": {
      "text/plain": [
       "   MODELYEAR   MAKE       MODEL VEHICLECLASS  ENGINESIZE  CYLINDERS  \\\n",
       "0       2014  ACURA         ILX      COMPACT         2.0          4   \n",
       "1       2014  ACURA         ILX      COMPACT         2.4          4   \n",
       "2       2014  ACURA  ILX HYBRID      COMPACT         1.5          4   \n",
       "3       2014  ACURA     MDX 4WD  SUV - SMALL         3.5          6   \n",
       "4       2014  ACURA     RDX AWD  SUV - SMALL         3.5          6   \n",
       "\n",
       "  TRANSMISSION FUELTYPE  FUELCONSUMPTION_CITY  FUELCONSUMPTION_HWY  \\\n",
       "0          AS5        Z                   9.9                  6.7   \n",
       "1           M6        Z                  11.2                  7.7   \n",
       "2          AV7        Z                   6.0                  5.8   \n",
       "3          AS6        Z                  12.7                  9.1   \n",
       "4          AS6        Z                  12.1                  8.7   \n",
       "\n",
       "   FUELCONSUMPTION_COMB  FUELCONSUMPTION_COMB_MPG  CO2EMISSIONS  \n",
       "0                   8.5                        33           196  \n",
       "1                   9.6                        29           221  \n",
       "2                   5.9                        48           136  \n",
       "3                  11.1                        25           255  \n",
       "4                  10.6                        27           244  "
      ],
      "text/html": [
       "<div>\n",
       "<style scoped>\n",
       "    .dataframe tbody tr th:only-of-type {\n",
       "        vertical-align: middle;\n",
       "    }\n",
       "\n",
       "    .dataframe tbody tr th {\n",
       "        vertical-align: top;\n",
       "    }\n",
       "\n",
       "    .dataframe thead th {\n",
       "        text-align: right;\n",
       "    }\n",
       "</style>\n",
       "<table border=\"1\" class=\"dataframe\">\n",
       "  <thead>\n",
       "    <tr style=\"text-align: right;\">\n",
       "      <th></th>\n",
       "      <th>MODELYEAR</th>\n",
       "      <th>MAKE</th>\n",
       "      <th>MODEL</th>\n",
       "      <th>VEHICLECLASS</th>\n",
       "      <th>ENGINESIZE</th>\n",
       "      <th>CYLINDERS</th>\n",
       "      <th>TRANSMISSION</th>\n",
       "      <th>FUELTYPE</th>\n",
       "      <th>FUELCONSUMPTION_CITY</th>\n",
       "      <th>FUELCONSUMPTION_HWY</th>\n",
       "      <th>FUELCONSUMPTION_COMB</th>\n",
       "      <th>FUELCONSUMPTION_COMB_MPG</th>\n",
       "      <th>CO2EMISSIONS</th>\n",
       "    </tr>\n",
       "  </thead>\n",
       "  <tbody>\n",
       "    <tr>\n",
       "      <th>0</th>\n",
       "      <td>2014</td>\n",
       "      <td>ACURA</td>\n",
       "      <td>ILX</td>\n",
       "      <td>COMPACT</td>\n",
       "      <td>2.0</td>\n",
       "      <td>4</td>\n",
       "      <td>AS5</td>\n",
       "      <td>Z</td>\n",
       "      <td>9.9</td>\n",
       "      <td>6.7</td>\n",
       "      <td>8.5</td>\n",
       "      <td>33</td>\n",
       "      <td>196</td>\n",
       "    </tr>\n",
       "    <tr>\n",
       "      <th>1</th>\n",
       "      <td>2014</td>\n",
       "      <td>ACURA</td>\n",
       "      <td>ILX</td>\n",
       "      <td>COMPACT</td>\n",
       "      <td>2.4</td>\n",
       "      <td>4</td>\n",
       "      <td>M6</td>\n",
       "      <td>Z</td>\n",
       "      <td>11.2</td>\n",
       "      <td>7.7</td>\n",
       "      <td>9.6</td>\n",
       "      <td>29</td>\n",
       "      <td>221</td>\n",
       "    </tr>\n",
       "    <tr>\n",
       "      <th>2</th>\n",
       "      <td>2014</td>\n",
       "      <td>ACURA</td>\n",
       "      <td>ILX HYBRID</td>\n",
       "      <td>COMPACT</td>\n",
       "      <td>1.5</td>\n",
       "      <td>4</td>\n",
       "      <td>AV7</td>\n",
       "      <td>Z</td>\n",
       "      <td>6.0</td>\n",
       "      <td>5.8</td>\n",
       "      <td>5.9</td>\n",
       "      <td>48</td>\n",
       "      <td>136</td>\n",
       "    </tr>\n",
       "    <tr>\n",
       "      <th>3</th>\n",
       "      <td>2014</td>\n",
       "      <td>ACURA</td>\n",
       "      <td>MDX 4WD</td>\n",
       "      <td>SUV - SMALL</td>\n",
       "      <td>3.5</td>\n",
       "      <td>6</td>\n",
       "      <td>AS6</td>\n",
       "      <td>Z</td>\n",
       "      <td>12.7</td>\n",
       "      <td>9.1</td>\n",
       "      <td>11.1</td>\n",
       "      <td>25</td>\n",
       "      <td>255</td>\n",
       "    </tr>\n",
       "    <tr>\n",
       "      <th>4</th>\n",
       "      <td>2014</td>\n",
       "      <td>ACURA</td>\n",
       "      <td>RDX AWD</td>\n",
       "      <td>SUV - SMALL</td>\n",
       "      <td>3.5</td>\n",
       "      <td>6</td>\n",
       "      <td>AS6</td>\n",
       "      <td>Z</td>\n",
       "      <td>12.1</td>\n",
       "      <td>8.7</td>\n",
       "      <td>10.6</td>\n",
       "      <td>27</td>\n",
       "      <td>244</td>\n",
       "    </tr>\n",
       "  </tbody>\n",
       "</table>\n",
       "</div>"
      ]
     },
     "execution_count": 32,
     "metadata": {},
     "output_type": "execute_result"
    }
   ],
   "execution_count": 32
  },
  {
   "metadata": {
    "ExecuteTime": {
     "end_time": "2025-03-26T21:36:55.958107Z",
     "start_time": "2025-03-26T21:36:55.947087Z"
    }
   },
   "cell_type": "code",
   "source": "df.info()",
   "id": "74ead29407ba67eb",
   "outputs": [
    {
     "name": "stdout",
     "output_type": "stream",
     "text": [
      "<class 'pandas.core.frame.DataFrame'>\n",
      "RangeIndex: 1067 entries, 0 to 1066\n",
      "Data columns (total 13 columns):\n",
      " #   Column                    Non-Null Count  Dtype  \n",
      "---  ------                    --------------  -----  \n",
      " 0   MODELYEAR                 1067 non-null   int64  \n",
      " 1   MAKE                      1067 non-null   object \n",
      " 2   MODEL                     1067 non-null   object \n",
      " 3   VEHICLECLASS              1067 non-null   object \n",
      " 4   ENGINESIZE                1067 non-null   float64\n",
      " 5   CYLINDERS                 1067 non-null   int64  \n",
      " 6   TRANSMISSION              1067 non-null   object \n",
      " 7   FUELTYPE                  1067 non-null   object \n",
      " 8   FUELCONSUMPTION_CITY      1067 non-null   float64\n",
      " 9   FUELCONSUMPTION_HWY       1067 non-null   float64\n",
      " 10  FUELCONSUMPTION_COMB      1067 non-null   float64\n",
      " 11  FUELCONSUMPTION_COMB_MPG  1067 non-null   int64  \n",
      " 12  CO2EMISSIONS              1067 non-null   int64  \n",
      "dtypes: float64(4), int64(4), object(5)\n",
      "memory usage: 108.5+ KB\n"
     ]
    }
   ],
   "execution_count": 33
  },
  {
   "metadata": {},
   "cell_type": "markdown",
   "source": "## Change the data type",
   "id": "4f8ef0d7245fd01d"
  },
  {
   "metadata": {
    "ExecuteTime": {
     "end_time": "2025-03-26T21:36:56.027209Z",
     "start_time": "2025-03-26T21:36:56.020999Z"
    }
   },
   "cell_type": "code",
   "source": [
    "# Check for any mistakes\n",
    "print(df['CYLINDERS'].max())\n",
    "print(df['CYLINDERS'].min())\n",
    "print(df['MODELYEAR'].max())\n",
    "print(df['MODELYEAR'].min())"
   ],
   "id": "3e1449aacb67d791",
   "outputs": [
    {
     "name": "stdout",
     "output_type": "stream",
     "text": [
      "12\n",
      "3\n",
      "2014\n",
      "2014\n"
     ]
    }
   ],
   "execution_count": 34
  },
  {
   "metadata": {
    "ExecuteTime": {
     "end_time": "2025-03-26T21:36:56.193461Z",
     "start_time": "2025-03-26T21:36:56.183171Z"
    }
   },
   "cell_type": "code",
   "source": [
    "# Change data type for best efficiency\n",
    "df['MODELYEAR'] = df['MODELYEAR'].astype('int16')\n",
    "df['MAKE'] = df['MAKE'].astype('category')\n",
    "df['VEHICLECLASS'] = df['VEHICLECLASS'].astype('category')\n",
    "df['CYLINDERS'] = df['CYLINDERS'].astype('int16')\n",
    "df['FUELTYPE'] = df['FUELTYPE'].astype('category')"
   ],
   "id": "91762cb6189ae946",
   "outputs": [],
   "execution_count": 35
  },
  {
   "metadata": {
    "ExecuteTime": {
     "end_time": "2025-03-26T21:36:56.309698Z",
     "start_time": "2025-03-26T21:36:56.295331Z"
    }
   },
   "cell_type": "code",
   "source": "df.info()",
   "id": "6cbb84c89c01224b",
   "outputs": [
    {
     "name": "stdout",
     "output_type": "stream",
     "text": [
      "<class 'pandas.core.frame.DataFrame'>\n",
      "RangeIndex: 1067 entries, 0 to 1066\n",
      "Data columns (total 13 columns):\n",
      " #   Column                    Non-Null Count  Dtype   \n",
      "---  ------                    --------------  -----   \n",
      " 0   MODELYEAR                 1067 non-null   int16   \n",
      " 1   MAKE                      1067 non-null   category\n",
      " 2   MODEL                     1067 non-null   object  \n",
      " 3   VEHICLECLASS              1067 non-null   category\n",
      " 4   ENGINESIZE                1067 non-null   float64 \n",
      " 5   CYLINDERS                 1067 non-null   int16   \n",
      " 6   TRANSMISSION              1067 non-null   object  \n",
      " 7   FUELTYPE                  1067 non-null   category\n",
      " 8   FUELCONSUMPTION_CITY      1067 non-null   float64 \n",
      " 9   FUELCONSUMPTION_HWY       1067 non-null   float64 \n",
      " 10  FUELCONSUMPTION_COMB      1067 non-null   float64 \n",
      " 11  FUELCONSUMPTION_COMB_MPG  1067 non-null   int64   \n",
      " 12  CO2EMISSIONS              1067 non-null   int64   \n",
      "dtypes: category(3), float64(4), int16(2), int64(2), object(2)\n",
      "memory usage: 76.3+ KB\n"
     ]
    }
   ],
   "execution_count": 36
  },
  {
   "metadata": {
    "ExecuteTime": {
     "end_time": "2025-03-26T21:36:56.391622Z",
     "start_time": "2025-03-26T21:36:56.382704Z"
    }
   },
   "cell_type": "code",
   "source": [
    "print(df['CYLINDERS'].max())\n",
    "print(df['CYLINDERS'].min())\n",
    "print(df['MODELYEAR'].max())\n",
    "print(df['MODELYEAR'].min())"
   ],
   "id": "b15cb8c57466ca19",
   "outputs": [
    {
     "name": "stdout",
     "output_type": "stream",
     "text": [
      "12\n",
      "3\n",
      "2014\n",
      "2014\n"
     ]
    }
   ],
   "execution_count": 37
  },
  {
   "metadata": {},
   "cell_type": "markdown",
   "source": [
    "\n",
    "## Understanding the Data\n",
    "\n",
    "### `FuelConsumption.csv`:\n",
    "**`FuelConsumption.csv`**, which contains model-specific fuel consumption ratings and estimated carbon dioxide emissions for new light-duty vehicles for retail sale in Canada. [Dataset source](http://open.canada.ca/data/en/dataset/98f1a129-f628-4ce4-b24d-6f16bf24dd64)\n",
    "\n",
    "- **MODELYEAR** e.g. 2014\n",
    "- **MAKE** e.g. Acura\n",
    "- **MODEL** e.g. ILX\n",
    "- **VEHICLE CLASS** e.g. SUV\n",
    "- **ENGINE SIZE** e.g. 4.7\n",
    "- **CYLINDERS** e.g 6\n",
    "- **TRANSMISSION** e.g. A6\n",
    "- **FUEL CONSUMPTION in CITY(L/100 km)** e.g. 9.9\n",
    "- **FUEL CONSUMPTION in HWY (L/100 km)** e.g. 8.9\n",
    "- **FUEL CONSUMPTION COMB (L/100 km)** e.g. 9.2\n",
    "- **CO2 EMISSIONS (g/km)** e.g. 182   --> low --> 0\n"
   ],
   "id": "6682a574860ea31"
  },
  {
   "metadata": {
    "ExecuteTime": {
     "end_time": "2025-03-26T21:36:56.519932Z",
     "start_time": "2025-03-26T21:36:56.482232Z"
    }
   },
   "cell_type": "code",
   "source": [
    "# summarize the data\n",
    "df.describe()"
   ],
   "id": "51d97a4a86c0fa44",
   "outputs": [
    {
     "data": {
      "text/plain": [
       "       MODELYEAR   ENGINESIZE    CYLINDERS  FUELCONSUMPTION_CITY  \\\n",
       "count     1067.0  1067.000000  1067.000000           1067.000000   \n",
       "mean      2014.0     3.346298     5.794752             13.296532   \n",
       "std          0.0     1.415895     1.797447              4.101253   \n",
       "min       2014.0     1.000000     3.000000              4.600000   \n",
       "25%       2014.0     2.000000     4.000000             10.250000   \n",
       "50%       2014.0     3.400000     6.000000             12.600000   \n",
       "75%       2014.0     4.300000     8.000000             15.550000   \n",
       "max       2014.0     8.400000    12.000000             30.200000   \n",
       "\n",
       "       FUELCONSUMPTION_HWY  FUELCONSUMPTION_COMB  FUELCONSUMPTION_COMB_MPG  \\\n",
       "count          1067.000000           1067.000000               1067.000000   \n",
       "mean              9.474602             11.580881                 26.441425   \n",
       "std               2.794510              3.485595                  7.468702   \n",
       "min               4.900000              4.700000                 11.000000   \n",
       "25%               7.500000              9.000000                 21.000000   \n",
       "50%               8.800000             10.900000                 26.000000   \n",
       "75%              10.850000             13.350000                 31.000000   \n",
       "max              20.500000             25.800000                 60.000000   \n",
       "\n",
       "       CO2EMISSIONS  \n",
       "count   1067.000000  \n",
       "mean     256.228679  \n",
       "std       63.372304  \n",
       "min      108.000000  \n",
       "25%      207.000000  \n",
       "50%      251.000000  \n",
       "75%      294.000000  \n",
       "max      488.000000  "
      ],
      "text/html": [
       "<div>\n",
       "<style scoped>\n",
       "    .dataframe tbody tr th:only-of-type {\n",
       "        vertical-align: middle;\n",
       "    }\n",
       "\n",
       "    .dataframe tbody tr th {\n",
       "        vertical-align: top;\n",
       "    }\n",
       "\n",
       "    .dataframe thead th {\n",
       "        text-align: right;\n",
       "    }\n",
       "</style>\n",
       "<table border=\"1\" class=\"dataframe\">\n",
       "  <thead>\n",
       "    <tr style=\"text-align: right;\">\n",
       "      <th></th>\n",
       "      <th>MODELYEAR</th>\n",
       "      <th>ENGINESIZE</th>\n",
       "      <th>CYLINDERS</th>\n",
       "      <th>FUELCONSUMPTION_CITY</th>\n",
       "      <th>FUELCONSUMPTION_HWY</th>\n",
       "      <th>FUELCONSUMPTION_COMB</th>\n",
       "      <th>FUELCONSUMPTION_COMB_MPG</th>\n",
       "      <th>CO2EMISSIONS</th>\n",
       "    </tr>\n",
       "  </thead>\n",
       "  <tbody>\n",
       "    <tr>\n",
       "      <th>count</th>\n",
       "      <td>1067.0</td>\n",
       "      <td>1067.000000</td>\n",
       "      <td>1067.000000</td>\n",
       "      <td>1067.000000</td>\n",
       "      <td>1067.000000</td>\n",
       "      <td>1067.000000</td>\n",
       "      <td>1067.000000</td>\n",
       "      <td>1067.000000</td>\n",
       "    </tr>\n",
       "    <tr>\n",
       "      <th>mean</th>\n",
       "      <td>2014.0</td>\n",
       "      <td>3.346298</td>\n",
       "      <td>5.794752</td>\n",
       "      <td>13.296532</td>\n",
       "      <td>9.474602</td>\n",
       "      <td>11.580881</td>\n",
       "      <td>26.441425</td>\n",
       "      <td>256.228679</td>\n",
       "    </tr>\n",
       "    <tr>\n",
       "      <th>std</th>\n",
       "      <td>0.0</td>\n",
       "      <td>1.415895</td>\n",
       "      <td>1.797447</td>\n",
       "      <td>4.101253</td>\n",
       "      <td>2.794510</td>\n",
       "      <td>3.485595</td>\n",
       "      <td>7.468702</td>\n",
       "      <td>63.372304</td>\n",
       "    </tr>\n",
       "    <tr>\n",
       "      <th>min</th>\n",
       "      <td>2014.0</td>\n",
       "      <td>1.000000</td>\n",
       "      <td>3.000000</td>\n",
       "      <td>4.600000</td>\n",
       "      <td>4.900000</td>\n",
       "      <td>4.700000</td>\n",
       "      <td>11.000000</td>\n",
       "      <td>108.000000</td>\n",
       "    </tr>\n",
       "    <tr>\n",
       "      <th>25%</th>\n",
       "      <td>2014.0</td>\n",
       "      <td>2.000000</td>\n",
       "      <td>4.000000</td>\n",
       "      <td>10.250000</td>\n",
       "      <td>7.500000</td>\n",
       "      <td>9.000000</td>\n",
       "      <td>21.000000</td>\n",
       "      <td>207.000000</td>\n",
       "    </tr>\n",
       "    <tr>\n",
       "      <th>50%</th>\n",
       "      <td>2014.0</td>\n",
       "      <td>3.400000</td>\n",
       "      <td>6.000000</td>\n",
       "      <td>12.600000</td>\n",
       "      <td>8.800000</td>\n",
       "      <td>10.900000</td>\n",
       "      <td>26.000000</td>\n",
       "      <td>251.000000</td>\n",
       "    </tr>\n",
       "    <tr>\n",
       "      <th>75%</th>\n",
       "      <td>2014.0</td>\n",
       "      <td>4.300000</td>\n",
       "      <td>8.000000</td>\n",
       "      <td>15.550000</td>\n",
       "      <td>10.850000</td>\n",
       "      <td>13.350000</td>\n",
       "      <td>31.000000</td>\n",
       "      <td>294.000000</td>\n",
       "    </tr>\n",
       "    <tr>\n",
       "      <th>max</th>\n",
       "      <td>2014.0</td>\n",
       "      <td>8.400000</td>\n",
       "      <td>12.000000</td>\n",
       "      <td>30.200000</td>\n",
       "      <td>20.500000</td>\n",
       "      <td>25.800000</td>\n",
       "      <td>60.000000</td>\n",
       "      <td>488.000000</td>\n",
       "    </tr>\n",
       "  </tbody>\n",
       "</table>\n",
       "</div>"
      ]
     },
     "execution_count": 38,
     "metadata": {},
     "output_type": "execute_result"
    }
   ],
   "execution_count": 38
  },
  {
   "metadata": {
    "ExecuteTime": {
     "end_time": "2025-03-26T21:36:56.625520Z",
     "start_time": "2025-03-26T21:36:56.613989Z"
    }
   },
   "cell_type": "code",
   "source": "df.shape",
   "id": "bf96d804cd677fb8",
   "outputs": [
    {
     "data": {
      "text/plain": [
       "(1067, 13)"
      ]
     },
     "execution_count": 39,
     "metadata": {},
     "output_type": "execute_result"
    }
   ],
   "execution_count": 39
  },
  {
   "metadata": {
    "ExecuteTime": {
     "end_time": "2025-03-26T21:36:56.743833Z",
     "start_time": "2025-03-26T21:36:56.717778Z"
    }
   },
   "cell_type": "code",
   "source": [
    "\"\"\"\n",
    "\n",
    "y --> Dependent variable is Co2\n",
    "x --> Independent variable is EngineSize\n",
    "\n",
    "\"\"\"\n",
    "feature_selections = df[['ENGINESIZE', 'CO2EMISSIONS']]\n",
    "feature_selections.head()"
   ],
   "id": "6c0cf13f9a30612b",
   "outputs": [
    {
     "data": {
      "text/plain": [
       "   ENGINESIZE  CO2EMISSIONS\n",
       "0         2.0           196\n",
       "1         2.4           221\n",
       "2         1.5           136\n",
       "3         3.5           255\n",
       "4         3.5           244"
      ],
      "text/html": [
       "<div>\n",
       "<style scoped>\n",
       "    .dataframe tbody tr th:only-of-type {\n",
       "        vertical-align: middle;\n",
       "    }\n",
       "\n",
       "    .dataframe tbody tr th {\n",
       "        vertical-align: top;\n",
       "    }\n",
       "\n",
       "    .dataframe thead th {\n",
       "        text-align: right;\n",
       "    }\n",
       "</style>\n",
       "<table border=\"1\" class=\"dataframe\">\n",
       "  <thead>\n",
       "    <tr style=\"text-align: right;\">\n",
       "      <th></th>\n",
       "      <th>ENGINESIZE</th>\n",
       "      <th>CO2EMISSIONS</th>\n",
       "    </tr>\n",
       "  </thead>\n",
       "  <tbody>\n",
       "    <tr>\n",
       "      <th>0</th>\n",
       "      <td>2.0</td>\n",
       "      <td>196</td>\n",
       "    </tr>\n",
       "    <tr>\n",
       "      <th>1</th>\n",
       "      <td>2.4</td>\n",
       "      <td>221</td>\n",
       "    </tr>\n",
       "    <tr>\n",
       "      <th>2</th>\n",
       "      <td>1.5</td>\n",
       "      <td>136</td>\n",
       "    </tr>\n",
       "    <tr>\n",
       "      <th>3</th>\n",
       "      <td>3.5</td>\n",
       "      <td>255</td>\n",
       "    </tr>\n",
       "    <tr>\n",
       "      <th>4</th>\n",
       "      <td>3.5</td>\n",
       "      <td>244</td>\n",
       "    </tr>\n",
       "  </tbody>\n",
       "</table>\n",
       "</div>"
      ]
     },
     "execution_count": 40,
     "metadata": {},
     "output_type": "execute_result"
    }
   ],
   "execution_count": 40
  },
  {
   "metadata": {},
   "cell_type": "markdown",
   "source": [
    "### Fit line (regression line)\n",
    "\n",
    "- # Explanation:\n",
    "* ### sns.regplot() is used to draw the regression line\n",
    "* ### scatter=False ensures that the function only plots the line (so that the scatter points remain from the first plot)\n",
    "* ### color='red' makes the regression line red for better visibility"
   ],
   "id": "4484f5f7ea15f352"
  },
  {
   "metadata": {
    "ExecuteTime": {
     "end_time": "2025-03-26T21:36:57.463413Z",
     "start_time": "2025-03-26T21:36:56.908492Z"
    }
   },
   "cell_type": "code",
   "source": [
    "sns.scatterplot(data=feature_selections, x='ENGINESIZE', y='CO2EMISSIONS',color='blue');\n",
    "sns.regplot(data=feature_selections, x='ENGINESIZE', y='CO2EMISSIONS',color='red', scatter=False)\n",
    "plt.xlabel(\"Engine size\");\n",
    "plt.ylabel(\"CO2EMISSIONS\");"
   ],
   "id": "7b8d20ed7a6887a6",
   "outputs": [
    {
     "data": {
      "text/plain": [
       "<Figure size 640x480 with 1 Axes>"
      ],
      "image/png": "[encoded data removed]"
     },
     "metadata": {},
     "output_type": "display_data"
    }
   ],
   "execution_count": 41
  },
  {
   "metadata": {},
   "cell_type": "markdown",
   "source": [
    "# Creating train and test dataset\n",
    "### mask (a boolean array) to split a dataset into two parts, used for training and testing\n"
   ],
   "id": "6279e3308052084f"
  },
  {
   "metadata": {
    "ExecuteTime": {
     "end_time": "2025-03-26T21:36:57.526525Z",
     "start_time": "2025-03-26T21:36:57.517809Z"
    }
   },
   "cell_type": "code",
   "source": [
    "mask = np.random.rand(len(feature_selections)) < 0.8\n",
    "# Generates a NumPy array of random values (between 0 and 1) with the same length as feature_selections."
   ],
   "id": "b7b8962f0d63704",
   "outputs": [],
   "execution_count": 42
  },
  {
   "metadata": {
    "ExecuteTime": {
     "end_time": "2025-03-26T21:36:57.600429Z",
     "start_time": "2025-03-26T21:36:57.590913Z"
    }
   },
   "cell_type": "code",
   "source": [
    "train = feature_selections[mask]    # Selects rows from feature_selections where the mask is True (i.e., 80% of the data is assigned to the training set).\n",
    "test = feature_selections[~mask]    # Selects rows where the mask is False (i.e., 20% of the data is assigned to the testing set).\n",
    "\n",
    "# ~mask negates the boolean mask, flipping True to False and vice versa."
   ],
   "id": "be3bfdcd7e99a332",
   "outputs": [],
   "execution_count": 43
  },
  {
   "metadata": {},
   "cell_type": "markdown",
   "source": [
    "#### Modeling\n",
    "Using sklearn package to model data.\n"
   ],
   "id": "91a6c591b3bede6a"
  },
  {
   "metadata": {
    "ExecuteTime": {
     "end_time": "2025-03-26T21:36:57.658882Z",
     "start_time": "2025-03-26T21:36:57.654007Z"
    }
   },
   "cell_type": "code",
   "source": [
    "from sklearn import linear_model\n",
    "\n",
    "linear = linear_model.LinearRegression()"
   ],
   "id": "b6acf00de0be24e4",
   "outputs": [],
   "execution_count": 44
  },
  {
   "metadata": {},
   "cell_type": "markdown",
   "source": [
    "#### Converts the selected columns from the (train) DataFrame into NumPy arrays using np.asanyarray().\n",
    "* Why? Scikit-learn works better with NumPy arrays than pandas DataFrames.\n",
    "* Why double brackets [[]]? This ensures the result is a 2D array (matrix) instead of a 1D array.\n",
    "* train[['ENGINESIZE']] → Shape (n, 1), needed for model training."
   ],
   "id": "379eb32a9a9edb9b"
  },
  {
   "metadata": {
    "ExecuteTime": {
     "end_time": "2025-03-26T21:36:57.754826Z",
     "start_time": "2025-03-26T21:36:57.747750Z"
    }
   },
   "cell_type": "code",
   "source": [
    "train_x = np.asanyarray((train[['ENGINESIZE']]))\n",
    "train_y = np.asanyarray((train[['CO2EMISSIONS']]))"
   ],
   "id": "2a0dc2a77edc316a",
   "outputs": [],
   "execution_count": 45
  },
  {
   "metadata": {
    "ExecuteTime": {
     "end_time": "2025-03-26T21:36:57.775662Z",
     "start_time": "2025-03-26T21:36:57.766636Z"
    }
   },
   "cell_type": "code",
   "source": [
    "linear.fit(train_x, train_y)\n",
    "\"\"\"\n",
    "\n",
    "linear.fit(input, output)\n",
    "\n",
    "\"\"\""
   ],
   "id": "4d34582125cf1b1d",
   "outputs": [
    {
     "data": {
      "text/plain": [
       "'\\n\\nlinear.fit(input, output)\\n\\n'"
      ]
     },
     "execution_count": 46,
     "metadata": {},
     "output_type": "execute_result"
    }
   ],
   "execution_count": 46
  },
  {
   "metadata": {},
   "cell_type": "markdown",
   "source": [
    "* Fits (trains) the linear regression model using train_x (input: Engine Size) and train_y (output: CO2 Emissions).\n",
    "* The model learns the best-fit line using the least squares method."
   ],
   "id": "1d812cdf20a6183d"
  },
  {
   "metadata": {},
   "cell_type": "markdown",
   "source": [
    "- ## The Equation\n",
    "( x - x_mean )*( y - y_mean ) / ( x - x_mean )**2\n"
   ],
   "id": "d97b946d7581c62a"
  },
  {
   "metadata": {},
   "cell_type": "markdown",
   "source": [
    "# Once trained, the model stores:\n",
    "* ### Slope (theta_1): linear.coef_\n",
    "* ### Intercept (theta_0): linear.intercept_"
   ],
   "id": "7a66362a2c82fd8c"
  },
  {
   "metadata": {
    "ExecuteTime": {
     "end_time": "2025-03-26T21:36:57.834471Z",
     "start_time": "2025-03-26T21:36:57.828330Z"
    }
   },
   "cell_type": "code",
   "source": [
    "print(f'Slope theta_1: {linear.coef_[0][0]}')\n",
    "print(f'Intercept theta_0: {linear.intercept_[0]}')"
   ],
   "id": "1619e40da4164e22",
   "outputs": [
    {
     "name": "stdout",
     "output_type": "stream",
     "text": [
      "Slope theta_1: 38.93963103757809\n",
      "Intercept theta_0: 126.55890744129542\n"
     ]
    }
   ],
   "execution_count": 47
  },
  {
   "metadata": {
    "ExecuteTime": {
     "end_time": "2025-03-26T21:36:57.886281Z",
     "start_time": "2025-03-26T21:36:57.879579Z"
    }
   },
   "cell_type": "code",
   "source": [
    "# The coefficients\n",
    "print (f'Coefficients (slope theta_1): {linear.coef_}')\n",
    "print (f'Intercept (theta_0): {linear.intercept_}')"
   ],
   "id": "835bf0bd518f5a44",
   "outputs": [
    {
     "name": "stdout",
     "output_type": "stream",
     "text": [
      "Coefficients (slope theta_1): [[38.93963104]]\n",
      "Intercept (theta_0): [126.55890744]\n"
     ]
    }
   ],
   "execution_count": 48
  },
  {
   "metadata": {},
   "cell_type": "markdown",
   "source": "# I wrote the cells twice to show you why i used [0][0]",
   "id": "f7b8ca896ba6f66d"
  },
  {
   "metadata": {
    "ExecuteTime": {
     "end_time": "2025-03-26T21:36:57.932902Z",
     "start_time": "2025-03-26T21:36:57.925801Z"
    }
   },
   "cell_type": "code",
   "source": [
    "intercept = linear.intercept_[0]\n",
    "slope = linear.coef_[0][0]\n",
    "print(f'Slope (theta_1): {slope}')\n",
    "print(f'Intercept (theta_0): {intercept}')"
   ],
   "id": "1480aadeba8974bc",
   "outputs": [
    {
     "name": "stdout",
     "output_type": "stream",
     "text": [
      "Slope (theta_1): 38.93963103757809\n",
      "Intercept (theta_0): 126.55890744129542\n"
     ]
    }
   ],
   "execution_count": 49
  },
  {
   "metadata": {
    "ExecuteTime": {
     "end_time": "2025-03-26T21:36:58.288530Z",
     "start_time": "2025-03-26T21:36:57.973094Z"
    }
   },
   "cell_type": "code",
   "source": [
    "sns.scatterplot(data=feature_selections, x='ENGINESIZE', y='CO2EMISSIONS',color='blue');\n",
    "plt.plot(train_x, linear.coef_[0][0]*train_x + linear.intercept_[0], '-r');\n",
    "plt.xlabel(\"Engine size\");\n",
    "plt.ylabel(\"Emission\");"
   ],
   "id": "429ca6696ed230c4",
   "outputs": [
    {
     "data": {
      "text/plain": [
       "<Figure size 640x480 with 1 Axes>"
      ],
      "image/png": "[encoded data removed]"
     },
     "metadata": {},
     "output_type": "display_data"
    }
   ],
   "execution_count": 50
  },
  {
   "metadata": {},
   "cell_type": "markdown",
   "source": "# Evaluation\n",
   "id": "410be1414bfdcb02"
  },
  {
   "metadata": {},
   "cell_type": "markdown",
   "source": [
    "* ### (MAE) Mean Absolute Error:\n",
    "\n",
    " * Your model's predict for Ex: around 25 units away from the actual CO₂ emissions. This means if an actual emission value is 200, your model might predict somewhere between 175 and 225.\n",
    "* Lower is better (0 means perfect prediction)\n",
    "* The difference between actual and predicted\n"
   ],
   "id": "f99ee3ca310f3f89"
  },
  {
   "metadata": {
    "ExecuteTime": {
     "end_time": "2025-03-26T21:36:58.381248Z",
     "start_time": "2025-03-26T21:36:58.376137Z"
    }
   },
   "cell_type": "code",
   "source": "from sklearn.metrics import mean_absolute_error, mean_squared_error, r2_score, explained_variance_score",
   "id": "fb17699caf7dbfbe",
   "outputs": [],
   "execution_count": 51
  },
  {
   "metadata": {
    "ExecuteTime": {
     "end_time": "2025-03-26T21:36:58.445483Z",
     "start_time": "2025-03-26T21:36:58.435331Z"
    }
   },
   "cell_type": "code",
   "source": [
    "test_x = np.asanyarray((test[['ENGINESIZE']]))\n",
    "test_y = np.asanyarray((test[['CO2EMISSIONS']]))\n",
    "y_hat = linear.predict(test_x)"
   ],
   "id": "dc1936cd372d68ce",
   "outputs": [],
   "execution_count": 52
  },
  {
   "metadata": {
    "ExecuteTime": {
     "end_time": "2025-03-26T21:36:58.509084Z",
     "start_time": "2025-03-26T21:36:58.501713Z"
    }
   },
   "cell_type": "code",
   "source": "print(f'MAE Mean absolute error: {mean_absolute_error(test_y, y_hat):.3f}')",
   "id": "728d34962282a589",
   "outputs": [
    {
     "name": "stdout",
     "output_type": "stream",
     "text": [
      "MAE Mean absolute error: 25.061\n"
     ]
    }
   ],
   "execution_count": 53
  },
  {
   "metadata": {},
   "cell_type": "markdown",
   "source": [
    "* ### (MSE) Mean Squared Error:\n",
    "* Smaller MSE means your model’s predictions are closer to the actual data.\n",
    "* Larger MSE means your model is making larger errors, which means it's less accurate.\n",
    "* Good model = Lower MSE\n",
    "* Bad model = Higher MSE\n",
    "* Lower is better"
   ],
   "id": "71aec3ec85ab22fb"
  },
  {
   "metadata": {
    "ExecuteTime": {
     "end_time": "2025-03-26T21:36:58.530744Z",
     "start_time": "2025-03-26T21:36:58.525163Z"
    }
   },
   "cell_type": "code",
   "source": "print(f'MSE Mean Squared Error: {mean_squared_error(test_y, y_hat):.3f}')",
   "id": "c352d274e1021625",
   "outputs": [
    {
     "name": "stdout",
     "output_type": "stream",
     "text": [
      "MSE Mean Squared Error: 1056.132\n"
     ]
    }
   ],
   "execution_count": 54
  },
  {
   "metadata": {},
   "cell_type": "markdown",
   "source": [
    "* ### (R2 Score)\n",
    "* Ranges from -∞ to 1\n",
    "* 1 → Perfect fit\n",
    "* 0 → Model is no better than the mean\n",
    "* Negative → Model is worse than just using the mean"
   ],
   "id": "a1429bbd4c92aea4"
  },
  {
   "metadata": {
    "ExecuteTime": {
     "end_time": "2025-03-26T21:36:58.586534Z",
     "start_time": "2025-03-26T21:36:58.579609Z"
    }
   },
   "cell_type": "code",
   "source": "print(f'R2 score: {r2_score(test_y, y_hat):.3f}')",
   "id": "41e8ef4b33d920d7",
   "outputs": [
    {
     "name": "stdout",
     "output_type": "stream",
     "text": [
      "R2 score: 0.765\n"
     ]
    }
   ],
   "execution_count": 55
  },
  {
   "metadata": {},
   "cell_type": "markdown",
   "source": "* Similar to r2_score, but it ignores systematic bias (mean differences between actual and predicted values).\n",
   "id": "4c0bcfd8d4096b31"
  },
  {
   "metadata": {
    "ExecuteTime": {
     "end_time": "2025-03-26T21:36:58.643270Z",
     "start_time": "2025-03-26T21:36:58.633132Z"
    }
   },
   "cell_type": "code",
   "source": "print(f'Variance {explained_variance_score(test_y, y_hat):.3f}')",
   "id": "b89607d2b1c2399c",
   "outputs": [
    {
     "name": "stdout",
     "output_type": "stream",
     "text": [
      "Variance 0.767\n"
     ]
    }
   ],
   "execution_count": 56
  },
  {
   "metadata": {},
   "cell_type": "markdown",
   "source": [
    "## Now we can predict the Co2Missions\n",
    "\n",
    "### Co2Missions = theta_0 + ( theta_1 * Enginesize )"
   ],
   "id": "dc09ddb0af15f08f"
  },
  {
   "metadata": {},
   "cell_type": "markdown",
   "source": "# Use The Model",
   "id": "8934d8566008451"
  },
  {
   "metadata": {
    "ExecuteTime": {
     "end_time": "2025-03-26T21:37:01.632731Z",
     "start_time": "2025-03-26T21:36:58.697025Z"
    }
   },
   "cell_type": "code",
   "source": [
    "engin_size = float(input('Enter Engine Size: '))\n",
    "result = (intercept) + ( slope * engin_size)\n",
    "\n",
    "print(f'The predication = {result:.2f} g/km\"')"
   ],
   "id": "e9802bc77faec442",
   "outputs": [
    {
     "name": "stdout",
     "output_type": "stream",
     "text": [
      "The predication = 282.32 g/km\"\n"
     ]
    }
   ],
   "execution_count": 57
  }
 ],
 "metadata": {
  "kernelspec": {
   "display_name": "Python 3 (ipykernel)",
   "language": "python",
   "name": "python3"
  },
  "language_info": {
   "codemirror_mode": {
    "name": "ipython",
    "version": 3
   },
   "file_extension": ".py",
   "mimetype": "text/x-python",
   "name": "python",
   "nbconvert_exporter": "python",
   "pygments_lexer": "ipython3",
   "version": "3.12.4"
  }
 },
 "nbformat": 4,
 "nbformat_minor": 5
}
